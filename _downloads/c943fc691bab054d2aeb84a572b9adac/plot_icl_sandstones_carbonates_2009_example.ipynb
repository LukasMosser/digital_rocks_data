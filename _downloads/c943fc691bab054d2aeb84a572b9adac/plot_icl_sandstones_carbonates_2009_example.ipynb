{
  "cells": [
    {
      "cell_type": "code",
      "execution_count": null,
      "metadata": {
        "collapsed": false
      },
      "outputs": [],
      "source": [
        "%matplotlib inline"
      ]
    },
    {
      "cell_type": "markdown",
      "metadata": {},
      "source": [
        "\n# Imperial College London Sandstones & Carbonates 2009 Dataset\n\nThis example shows how we can load an image from the Imperial College London Sandstones & Carbonates 2009 dataset.\n"
      ]
    },
    {
      "cell_type": "code",
      "execution_count": null,
      "metadata": {
        "collapsed": false
      },
      "outputs": [],
      "source": [
        "from drd.datasets.icl_sandstones_carbonates_2009 import load_icl_sandstones_carbonates_2009\nimport matplotlib.pyplot as plt"
      ]
    },
    {
      "cell_type": "markdown",
      "metadata": {},
      "source": [
        "## Loading the Image\nWe will use one of the utility functions called `load_icl_sandstones_carbonates_2009` to generate an xarray DataArray \nwhich already contains all the spatial axis information and scaling preconfigured.\n\nThis way we will have a proper definition of the image data in terms of a spatial coordinate system.\n\n"
      ]
    },
    {
      "cell_type": "code",
      "execution_count": null,
      "metadata": {
        "collapsed": false
      },
      "outputs": [],
      "source": [
        "img = load_icl_sandstones_carbonates_2009(\"Berea\")\n\n# This is the end of the 'code block' (if using an above IDE). All code within\n# this block can be easily executed all at once."
      ]
    },
    {
      "cell_type": "markdown",
      "metadata": {},
      "source": [
        "## Plotting the Image Data using xarray\nWe will use xarray's ability to summarize or select our data to plot an average over the z dimension.\n\n"
      ]
    },
    {
      "cell_type": "code",
      "execution_count": null,
      "metadata": {
        "collapsed": false
      },
      "outputs": [],
      "source": [
        "img.mean(dim='z').plot()\nplt.tight_layout()\nplt.show()"
      ]
    },
    {
      "cell_type": "markdown",
      "metadata": {},
      "source": [
        "We can clearly see how we first downloaded the image data from the web and subsequently compute an average over the micro-ct image dataset.\n\n"
      ]
    }
  ],
  "metadata": {
    "kernelspec": {
      "display_name": "Python 3",
      "language": "python",
      "name": "python3"
    },
    "language_info": {
      "codemirror_mode": {
        "name": "ipython",
        "version": 3
      },
      "file_extension": ".py",
      "mimetype": "text/x-python",
      "name": "python",
      "nbconvert_exporter": "python",
      "pygments_lexer": "ipython3",
      "version": "3.7.12"
    }
  },
  "nbformat": 4,
  "nbformat_minor": 0
}